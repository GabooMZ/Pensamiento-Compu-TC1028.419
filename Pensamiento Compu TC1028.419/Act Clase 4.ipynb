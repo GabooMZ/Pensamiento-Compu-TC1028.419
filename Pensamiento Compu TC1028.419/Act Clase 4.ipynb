{
 "cells": [
  {
   "cell_type": "markdown",
   "id": "429f752f",
   "metadata": {},
   "source": [
    "# Gabriel Eduardo Melendez Zavala\n",
    "# A01638293"
   ]
  },
  {
   "cell_type": "code",
   "execution_count": 6,
   "id": "62395ce7",
   "metadata": {},
   "outputs": [],
   "source": [
    "from math import sin, pi, radians, sqrt"
   ]
  },
  {
   "cell_type": "code",
   "execution_count": 3,
   "id": "45e6d5da",
   "metadata": {},
   "outputs": [
    {
     "name": "stdout",
     "output_type": "stream",
     "text": [
      "Cual es el valor de la Hipotenusa: 10\n",
      "El cateto opuesto del triangulo rectangulo es: 4.999999999999999\n"
     ]
    }
   ],
   "source": [
    "# Ejercicio 1\n",
    "\n",
    "hip = float(input('Cual es el valor de la Hipotenusa: '))\n",
    "cat_op = (sin(radians(30))*hip)\n",
    "\n",
    "print('El cateto opuesto del triangulo rectangulo es:', cat_op)"
   ]
  },
  {
   "cell_type": "code",
   "execution_count": 5,
   "id": "467aaa7c",
   "metadata": {},
   "outputs": [
    {
     "name": "stdout",
     "output_type": "stream",
     "text": [
      "Cual es el valor del radio: 5\n",
      "El area de la esfera es: 314.1592653589793 \n",
      "y su Volumen es: 523.5987755982989\n"
     ]
    }
   ],
   "source": [
    "# Ejercicio 2\n",
    "\n",
    "# area = 4*pi*r**2\n",
    "# volumen = (4*pi*r**3)/3\n",
    "\n",
    "radio = float(input('Cual es el valor del radio: '))\n",
    "print('El area de la esfera es:', (4*pi)*(radio**2), '\\ny su Volumen es:',((4*pi)*(radio**3)/3))"
   ]
  },
  {
   "cell_type": "code",
   "execution_count": 7,
   "id": "bfa674e8",
   "metadata": {},
   "outputs": [
    {
     "name": "stdout",
     "output_type": "stream",
     "text": [
      "Cual es el Ancho del Rectangulo: 4\n",
      "Cual es el Largo del Rectangulo: 3\n",
      "La diagonal del Rectangulo equivale a: 5.0\n"
     ]
    }
   ],
   "source": [
    "# Ejercicio 3\n",
    "\n",
    "ancho = float(input('Cual es el Ancho del Rectangulo: '))\n",
    "largo = float(input('Cual es el Largo del Rectangulo: '))\n",
    "diagonal = sqrt((ancho**2) + (largo**2))\n",
    "print('La diagonal del Rectangulo equivale a:', diagonal)"
   ]
  }
 ],
 "metadata": {
  "kernelspec": {
   "display_name": "Python 3 (ipykernel)",
   "language": "python",
   "name": "python3"
  },
  "language_info": {
   "codemirror_mode": {
    "name": "ipython",
    "version": 3
   },
   "file_extension": ".py",
   "mimetype": "text/x-python",
   "name": "python",
   "nbconvert_exporter": "python",
   "pygments_lexer": "ipython3",
   "version": "3.9.12"
  }
 },
 "nbformat": 4,
 "nbformat_minor": 5
}
