{
 "cells": [
  {
   "cell_type": "code",
   "execution_count": 27,
   "id": "fdc66e8c",
   "metadata": {},
   "outputs": [
    {
     "name": "stdout",
     "output_type": "stream",
     "text": [
      "14595\n",
      "1.4595014595014595 %\n",
      "1 in every 69 trips approximately :/\n"
     ]
    }
   ],
   "source": [
    "#Karen Bus Trick\n",
    "\n",
    "x = 0\n",
    "times_21 = 0\n",
    "while True:\n",
    "    x += 1\n",
    "    \n",
    "    result = [int(a) for a in str(x)]\n",
    "    \n",
    "    count = 0\n",
    "    \n",
    "    for num in result:\n",
    "        count += int(num)\n",
    "        \n",
    "        if count == 21:\n",
    "            #print(count)\n",
    "            times_21 += 1\n",
    "            \n",
    "    if x == 100000:\n",
    "        break\n",
    "\n",
    "percetage_val = (times_21*100)/999999\n",
    "print(times_21)\n",
    "print(percetage_val,'%')\n",
    "print('1 in every', round(100/percetage_val),'trips approximately :/')"
   ]
  },
  {
   "cell_type": "code",
   "execution_count": null,
   "id": "bb226a7a",
   "metadata": {},
   "outputs": [],
   "source": []
  }
 ],
 "metadata": {
  "kernelspec": {
   "display_name": "Python 3 (ipykernel)",
   "language": "python",
   "name": "python3"
  },
  "language_info": {
   "codemirror_mode": {
    "name": "ipython",
    "version": 3
   },
   "file_extension": ".py",
   "mimetype": "text/x-python",
   "name": "python",
   "nbconvert_exporter": "python",
   "pygments_lexer": "ipython3",
   "version": "3.9.12"
  }
 },
 "nbformat": 4,
 "nbformat_minor": 5
}
