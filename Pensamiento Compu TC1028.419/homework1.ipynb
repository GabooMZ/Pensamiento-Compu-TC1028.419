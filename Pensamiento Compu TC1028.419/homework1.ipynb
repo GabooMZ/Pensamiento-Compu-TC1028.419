{
 "cells": [
  {
   "cell_type": "markdown",
   "id": "7bf93fb7",
   "metadata": {},
   "source": [
    "Request the user's name and store in a variable called name.\n",
    "Request the user's city of birth and store in a variable called city.\n",
    "Print the output of both values like this example:\n",
    "\"So your name is Ken and you were born in Victoria\"."
   ]
  },
  {
   "cell_type": "code",
   "execution_count": 2,
   "id": "ffc17a08",
   "metadata": {},
   "outputs": [
    {
     "name": "stdout",
     "output_type": "stream",
     "text": [
      "What is your name? gabo\n",
      "What is your city of birth? gdl\n",
      "So your name is gabo and you were born in gdl\n"
     ]
    }
   ],
   "source": [
    "name = input('What is your name? ')\n",
    "city = input('What is your city of birth? ')\n",
    "print('So your name is',name,'and you were born in',city)"
   ]
  }
 ],
 "metadata": {
  "kernelspec": {
   "display_name": "Python 3 (ipykernel)",
   "language": "python",
   "name": "python3"
  },
  "language_info": {
   "codemirror_mode": {
    "name": "ipython",
    "version": 3
   },
   "file_extension": ".py",
   "mimetype": "text/x-python",
   "name": "python",
   "nbconvert_exporter": "python",
   "pygments_lexer": "ipython3",
   "version": "3.9.12"
  }
 },
 "nbformat": 4,
 "nbformat_minor": 5
}
