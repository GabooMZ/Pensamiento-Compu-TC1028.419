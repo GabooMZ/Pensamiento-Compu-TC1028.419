{
 "cells": [
  {
   "cell_type": "markdown",
   "id": "d2c726a3",
   "metadata": {},
   "source": [
    "Calcula el precio\n",
    "\n",
    "Escribe un algoritmo que calcule el precio que va a pagar un cliente por una bolsa de naranjas, dados el precio por kilo y el peso de la bolsa."
   ]
  },
  {
   "cell_type": "code",
   "execution_count": 9,
   "id": "986c1103",
   "metadata": {},
   "outputs": [
    {
     "name": "stdout",
     "output_type": "stream",
     "text": [
      "Cual es el peso de la bolsa de naranjas? 0.5\n",
      "Cual es el precio por kilo de la naranja? 10\n",
      "El precio de la Bolsa de Naranjas es: 5.0\n"
     ]
    }
   ],
   "source": [
    "try: \n",
    "    a = float(input('Cual es el peso de la bolsa de naranjas? '))\n",
    "    b = float(input('Cual es el precio por kilo de la naranja? '))\n",
    "    \n",
    "except ValueError:\n",
    "    print('Error: you must enter a number')\n",
    "\n",
    "else:\n",
    "    print('El precio de la Bolsa de Naranjas es:', a*b)"
   ]
  }
 ],
 "metadata": {
  "kernelspec": {
   "display_name": "Python 3 (ipykernel)",
   "language": "python",
   "name": "python3"
  },
  "language_info": {
   "codemirror_mode": {
    "name": "ipython",
    "version": 3
   },
   "file_extension": ".py",
   "mimetype": "text/x-python",
   "name": "python",
   "nbconvert_exporter": "python",
   "pygments_lexer": "ipython3",
   "version": "3.9.12"
  }
 },
 "nbformat": 4,
 "nbformat_minor": 5
}
